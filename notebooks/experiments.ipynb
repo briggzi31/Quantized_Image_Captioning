{
 "cells": [
  {
   "cell_type": "code",
   "execution_count": 1,
   "outputs": [
    {
     "name": "stdout",
     "output_type": "stream",
     "text": [
      "tensor([1.], device='mps:0')\n"
     ]
    }
   ],
   "source": [
    "import torch\n",
    "\n",
    "# If torch is m1 mac gpu accelerated, this should have the output:\n",
    "#   tensor([1.], device='mps:0')\n",
    "\n",
    "if torch.backends.mps.is_available():\n",
    "    mps_device = torch.device(\"mps\")\n",
    "    x = torch.ones(1, device=mps_device)\n",
    "    print(x)\n",
    "else:\n",
    "    print(\"MPS device not found.\")"
   ],
   "metadata": {
    "collapsed": false,
    "ExecuteTime": {
     "end_time": "2023-11-14T21:56:44.339878Z",
     "start_time": "2023-11-14T21:56:40.487621Z"
    }
   },
   "id": "c9900ce7bf34c9db"
  },
  {
   "cell_type": "code",
   "execution_count": 3,
   "outputs": [
    {
     "ename": "PackageNotFoundError",
     "evalue": "No package metadata was found for bitsandbytes",
     "output_type": "error",
     "traceback": [
      "\u001B[0;31m---------------------------------------------------------------------------\u001B[0m",
      "\u001B[0;31mPackageNotFoundError\u001B[0m                      Traceback (most recent call last)",
      "Cell \u001B[0;32mIn[3], line 8\u001B[0m\n\u001B[1;32m      4\u001B[0m blip2 \u001B[38;5;241m=\u001B[39m \u001B[38;5;124m\"\u001B[39m\u001B[38;5;124mSalesforce/blip2-opt-2.7b\u001B[39m\u001B[38;5;124m\"\u001B[39m\n\u001B[1;32m      5\u001B[0m adapter \u001B[38;5;241m=\u001B[39m \u001B[38;5;124m\"\u001B[39m\u001B[38;5;124mtimdettmers/guanaco-7b\u001B[39m\u001B[38;5;124m\"\u001B[39m\n\u001B[0;32m----> 8\u001B[0m nf4_config \u001B[38;5;241m=\u001B[39m \u001B[43mBitsAndBytesConfig\u001B[49m\u001B[43m(\u001B[49m\n\u001B[1;32m      9\u001B[0m \u001B[43m    \u001B[49m\u001B[43mload_in_4bit\u001B[49m\u001B[38;5;241;43m=\u001B[39;49m\u001B[38;5;28;43;01mTrue\u001B[39;49;00m\u001B[43m,\u001B[49m\n\u001B[1;32m     10\u001B[0m \u001B[43m    \u001B[49m\u001B[43mbnb_4bit_quant_type\u001B[49m\u001B[38;5;241;43m=\u001B[39;49m\u001B[38;5;124;43m\"\u001B[39;49m\u001B[38;5;124;43mnf4\u001B[39;49m\u001B[38;5;124;43m\"\u001B[39;49m\u001B[43m,\u001B[49m\n\u001B[1;32m     11\u001B[0m \u001B[43m    \u001B[49m\u001B[43mbnb_4bit_use_double_quant\u001B[49m\u001B[38;5;241;43m=\u001B[39;49m\u001B[38;5;28;43;01mTrue\u001B[39;49;00m\u001B[43m,\u001B[49m\n\u001B[1;32m     12\u001B[0m \u001B[43m    \u001B[49m\u001B[43mbnb_4bit_compute_dtype\u001B[49m\u001B[38;5;241;43m=\u001B[39;49m\u001B[43mtorch\u001B[49m\u001B[38;5;241;43m.\u001B[39;49m\u001B[43mbfloat16\u001B[49m\n\u001B[1;32m     13\u001B[0m \u001B[43m)\u001B[49m\n\u001B[1;32m     15\u001B[0m blip2_nf4 \u001B[38;5;241m=\u001B[39m AutoModelForCausalLM(\n\u001B[1;32m     16\u001B[0m     blip2, \n\u001B[1;32m     17\u001B[0m     load_in_4bit\u001B[38;5;241m=\u001B[39m\u001B[38;5;28;01mTrue\u001B[39;00m,\n\u001B[0;32m   (...)\u001B[0m\n\u001B[1;32m     20\u001B[0m     quantization_config\u001B[38;5;241m=\u001B[39mnf4_config\n\u001B[1;32m     21\u001B[0m )\n\u001B[1;32m     23\u001B[0m model \u001B[38;5;241m=\u001B[39m PeftModel\u001B[38;5;241m.\u001B[39mfrom_pretrained(blip2_nf4, adapter_name\u001B[38;5;241m=\u001B[39madapter)\n",
      "File \u001B[0;32m~/opt/anaconda3/envs/qlora_blip2/lib/python3.10/site-packages/transformers/utils/quantization_config.py:223\u001B[0m, in \u001B[0;36mBitsAndBytesConfig.__init__\u001B[0;34m(self, load_in_8bit, load_in_4bit, llm_int8_threshold, llm_int8_skip_modules, llm_int8_enable_fp32_cpu_offload, llm_int8_has_fp16_weight, bnb_4bit_compute_dtype, bnb_4bit_quant_type, bnb_4bit_use_double_quant, **kwargs)\u001B[0m\n\u001B[1;32m    220\u001B[0m \u001B[38;5;28;01melse\u001B[39;00m:\n\u001B[1;32m    221\u001B[0m     \u001B[38;5;28;01mraise\u001B[39;00m \u001B[38;5;167;01mValueError\u001B[39;00m(\u001B[38;5;124m\"\u001B[39m\u001B[38;5;124mbnb_4bit_compute_dtype must be a string or a torch.dtype\u001B[39m\u001B[38;5;124m\"\u001B[39m)\n\u001B[0;32m--> 223\u001B[0m \u001B[38;5;28;43mself\u001B[39;49m\u001B[38;5;241;43m.\u001B[39;49m\u001B[43mpost_init\u001B[49m\u001B[43m(\u001B[49m\u001B[43m)\u001B[49m\n",
      "File \u001B[0;32m~/opt/anaconda3/envs/qlora_blip2/lib/python3.10/site-packages/transformers/utils/quantization_config.py:249\u001B[0m, in \u001B[0;36mBitsAndBytesConfig.post_init\u001B[0;34m(self)\u001B[0m\n\u001B[1;32m    246\u001B[0m \u001B[38;5;28;01mif\u001B[39;00m \u001B[38;5;129;01mnot\u001B[39;00m \u001B[38;5;28misinstance\u001B[39m(\u001B[38;5;28mself\u001B[39m\u001B[38;5;241m.\u001B[39mbnb_4bit_use_double_quant, \u001B[38;5;28mbool\u001B[39m):\n\u001B[1;32m    247\u001B[0m     \u001B[38;5;28;01mraise\u001B[39;00m \u001B[38;5;167;01mValueError\u001B[39;00m(\u001B[38;5;124m\"\u001B[39m\u001B[38;5;124mbnb_4bit_use_double_quant must be a boolean\u001B[39m\u001B[38;5;124m\"\u001B[39m)\n\u001B[0;32m--> 249\u001B[0m \u001B[38;5;28;01mif\u001B[39;00m \u001B[38;5;28mself\u001B[39m\u001B[38;5;241m.\u001B[39mload_in_4bit \u001B[38;5;129;01mand\u001B[39;00m \u001B[38;5;129;01mnot\u001B[39;00m version\u001B[38;5;241m.\u001B[39mparse(\u001B[43mimportlib\u001B[49m\u001B[38;5;241;43m.\u001B[39;49m\u001B[43mmetadata\u001B[49m\u001B[38;5;241;43m.\u001B[39;49m\u001B[43mversion\u001B[49m\u001B[43m(\u001B[49m\u001B[38;5;124;43m\"\u001B[39;49m\u001B[38;5;124;43mbitsandbytes\u001B[39;49m\u001B[38;5;124;43m\"\u001B[39;49m\u001B[43m)\u001B[49m) \u001B[38;5;241m>\u001B[39m\u001B[38;5;241m=\u001B[39m version\u001B[38;5;241m.\u001B[39mparse(\n\u001B[1;32m    250\u001B[0m     \u001B[38;5;124m\"\u001B[39m\u001B[38;5;124m0.39.0\u001B[39m\u001B[38;5;124m\"\u001B[39m\n\u001B[1;32m    251\u001B[0m ):\n\u001B[1;32m    252\u001B[0m     \u001B[38;5;28;01mraise\u001B[39;00m \u001B[38;5;167;01mValueError\u001B[39;00m(\n\u001B[1;32m    253\u001B[0m         \u001B[38;5;124m\"\u001B[39m\u001B[38;5;124m4 bit quantization requires bitsandbytes>=0.39.0 - please upgrade your bitsandbytes version\u001B[39m\u001B[38;5;124m\"\u001B[39m\n\u001B[1;32m    254\u001B[0m     )\n",
      "File \u001B[0;32m~/opt/anaconda3/envs/qlora_blip2/lib/python3.10/importlib/metadata/__init__.py:996\u001B[0m, in \u001B[0;36mversion\u001B[0;34m(distribution_name)\u001B[0m\n\u001B[1;32m    989\u001B[0m \u001B[38;5;28;01mdef\u001B[39;00m \u001B[38;5;21mversion\u001B[39m(distribution_name):\n\u001B[1;32m    990\u001B[0m \u001B[38;5;250m    \u001B[39m\u001B[38;5;124;03m\"\"\"Get the version string for the named package.\u001B[39;00m\n\u001B[1;32m    991\u001B[0m \n\u001B[1;32m    992\u001B[0m \u001B[38;5;124;03m    :param distribution_name: The name of the distribution package to query.\u001B[39;00m\n\u001B[1;32m    993\u001B[0m \u001B[38;5;124;03m    :return: The version string for the package as defined in the package's\u001B[39;00m\n\u001B[1;32m    994\u001B[0m \u001B[38;5;124;03m        \"Version\" metadata key.\u001B[39;00m\n\u001B[1;32m    995\u001B[0m \u001B[38;5;124;03m    \"\"\"\u001B[39;00m\n\u001B[0;32m--> 996\u001B[0m     \u001B[38;5;28;01mreturn\u001B[39;00m \u001B[43mdistribution\u001B[49m\u001B[43m(\u001B[49m\u001B[43mdistribution_name\u001B[49m\u001B[43m)\u001B[49m\u001B[38;5;241m.\u001B[39mversion\n",
      "File \u001B[0;32m~/opt/anaconda3/envs/qlora_blip2/lib/python3.10/importlib/metadata/__init__.py:969\u001B[0m, in \u001B[0;36mdistribution\u001B[0;34m(distribution_name)\u001B[0m\n\u001B[1;32m    963\u001B[0m \u001B[38;5;28;01mdef\u001B[39;00m \u001B[38;5;21mdistribution\u001B[39m(distribution_name):\n\u001B[1;32m    964\u001B[0m \u001B[38;5;250m    \u001B[39m\u001B[38;5;124;03m\"\"\"Get the ``Distribution`` instance for the named package.\u001B[39;00m\n\u001B[1;32m    965\u001B[0m \n\u001B[1;32m    966\u001B[0m \u001B[38;5;124;03m    :param distribution_name: The name of the distribution package as a string.\u001B[39;00m\n\u001B[1;32m    967\u001B[0m \u001B[38;5;124;03m    :return: A ``Distribution`` instance (or subclass thereof).\u001B[39;00m\n\u001B[1;32m    968\u001B[0m \u001B[38;5;124;03m    \"\"\"\u001B[39;00m\n\u001B[0;32m--> 969\u001B[0m     \u001B[38;5;28;01mreturn\u001B[39;00m \u001B[43mDistribution\u001B[49m\u001B[38;5;241;43m.\u001B[39;49m\u001B[43mfrom_name\u001B[49m\u001B[43m(\u001B[49m\u001B[43mdistribution_name\u001B[49m\u001B[43m)\u001B[49m\n",
      "File \u001B[0;32m~/opt/anaconda3/envs/qlora_blip2/lib/python3.10/importlib/metadata/__init__.py:548\u001B[0m, in \u001B[0;36mDistribution.from_name\u001B[0;34m(cls, name)\u001B[0m\n\u001B[1;32m    546\u001B[0m         \u001B[38;5;28;01mreturn\u001B[39;00m dist\n\u001B[1;32m    547\u001B[0m \u001B[38;5;28;01melse\u001B[39;00m:\n\u001B[0;32m--> 548\u001B[0m     \u001B[38;5;28;01mraise\u001B[39;00m PackageNotFoundError(name)\n",
      "\u001B[0;31mPackageNotFoundError\u001B[0m: No package metadata was found for bitsandbytes"
     ]
    }
   ],
   "source": [
    "from transformers import BitsAndBytesConfig, AutoModelForCausalLM, AutoTokenizer\n",
    "from peft import PeftModel\n",
    "\n",
    "blip2 = \"Salesforce/blip2-opt-2.7b\"\n",
    "adapter = \"timdettmers/guanaco-7b\"\n",
    "\n",
    "\n",
    "nf4_config = BitsAndBytesConfig(\n",
    "    load_in_4bit=True,\n",
    "    bnb_4bit_quant_type=\"nf4\",\n",
    "    bnb_4bit_use_double_quant=True,\n",
    "    bnb_4bit_compute_dtype=torch.bfloat16\n",
    ")\n",
    "\n",
    "blip2_nf4 = AutoModelForCausalLM(\n",
    "    blip2, \n",
    "    load_in_4bit=True,\n",
    "    torch_dtype=torch.bfloat16,\n",
    "    device_map=\"auto\",\n",
    "    quantization_config=nf4_config\n",
    ")\n",
    "\n",
    "model = PeftModel.from_pretrained(blip2_nf4, adapter_name=adapter)\n",
    "tokenizer = AutoTokenizer.from_pretrained(blip2)\n",
    "\n",
    "print(model)"
   ],
   "metadata": {
    "collapsed": false,
    "ExecuteTime": {
     "end_time": "2023-11-14T22:28:47.976072Z",
     "start_time": "2023-11-14T22:28:47.430305Z"
    }
   },
   "id": "f9e2660c7b04f1c"
  }
 ],
 "metadata": {
  "kernelspec": {
   "name": "conda-env-qlora_blip2-py",
   "language": "python",
   "display_name": "Python [conda env:qlora_blip2] *"
  },
  "language_info": {
   "codemirror_mode": {
    "name": "ipython",
    "version": 2
   },
   "file_extension": ".py",
   "mimetype": "text/x-python",
   "name": "python",
   "nbconvert_exporter": "python",
   "pygments_lexer": "ipython2",
   "version": "2.7.6"
  }
 },
 "nbformat": 4,
 "nbformat_minor": 5
}
